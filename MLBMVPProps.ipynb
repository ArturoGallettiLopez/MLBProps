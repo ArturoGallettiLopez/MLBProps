{
 "cells": [
  {
   "cell_type": "code",
   "execution_count": 1,
   "metadata": {},
   "outputs": [],
   "source": [
    "# MLB spec code for Getting the MLB MVP Props data from SportData as well as the base stats \n",
    "# 1. Google Sheets (for Review)\n",
    "# 2. SQL for Use \n",
    "\n",
    "# The Google Sheet for the data review is: \n",
    "# MLBGetProps\n",
    "\n",
    "# https://docs.google.com/spreadsheets/d/1MvVT67sxzg2yBhHNMQXeRMxWQ4D4CnieMI9KfVoya-s/edit"
   ]
  },
  {
   "cell_type": "code",
   "execution_count": 2,
   "metadata": {},
   "outputs": [],
   "source": [
    "#Packages\n",
    "#Time\n",
    "import time\n",
    "from datetime import datetime, timedelta, timezone, date\n",
    "from pytz import timezone as tz\n",
    "#Set Timezone to Eastern time\n",
    "ny = tz(\"America/New_York\")\n",
    "fmt = '%B %d, %Y %H:%M:%S'\n",
    "timestart = datetime.now(ny)\n",
    "\n",
    "import sys, os\n",
    "\n",
    "#UrlLib\n",
    "import urllib.request\n",
    "from urllib.request import Request, urlopen\n",
    "import json \n",
    "\n",
    "#Gspread\n",
    "from gspread import authorize\n",
    "from gspread_dataframe import get_as_dataframe, set_with_dataframe\n",
    "from oauth2client.service_account import ServiceAccountCredentials\n",
    "\n",
    "#SQL\n",
    "from os import environ\n",
    "from sqlalchemy import create_engine\n",
    "\n",
    "#Beatiful Soup\n",
    "from bs4 import BeautifulSoup\n",
    "\n",
    "\n",
    "#Pandas\n",
    "from pandas import read_sql,DataFrame, read_html, read_json , merge, concat,to_numeric, set_option, json_normalize\n",
    "\n",
    "\n",
    "#SQL\n",
    "from os import environ\n",
    "import sqlalchemy\n",
    "from sqlalchemy import create_engine\n",
    "\n",
    "\n",
    "import re\n",
    "import requests\n",
    "\n",
    "#For Sims:\n",
    "\n",
    "from df2gspread import df2gspread as d2g\n",
    "import warnings\n",
    "import random\n",
    "import re\n"
   ]
  },
  {
   "cell_type": "code",
   "execution_count": 3,
   "metadata": {},
   "outputs": [],
   "source": [
    "#defining header to use on URL requests\n",
    "header= {'User-Agent': 'Mozilla/5.0 (X11; Linux x86_64) ' \n",
    "      'AppleWebKit/537.11 (KHTML, like Gecko) '\n",
    "      'Chrome/23.0.1271.64 Safari/537.11',\n",
    "      'Accept': 'text/html,application/xhtml+xml,application/xml;q=0.9,*/*;q=0.8',\n",
    "      'Accept-Charset': 'ISO-8859-1,utf-8;q=0.7,*;q=0.3',\n",
    "      'Accept-Encoding': 'none',\n",
    "      'Accept-Language': 'en-US,en;q=0.8',\n",
    "      'Connection': 'keep-alive'}"
   ]
  },
  {
   "cell_type": "code",
   "execution_count": 4,
   "metadata": {},
   "outputs": [],
   "source": [
    "#Connect to Debug GSheet\n",
    "try:\n",
    "    link='https://api.sportradar.us/oddscomparison-player-props/production/v2/en/players/mappings.json?api_key=gkppjuantd4fnh54b4mnhzbf&start='\n",
    "    scope = ['https://spreadsheets.google.com/feeds', 'https://www.googleapis.com/auth/drive']\n",
    "    credentials = ServiceAccountCredentials.from_json_keyfile_name('creds.json', scope) \n",
    "    gc = authorize(credentials)\n",
    "    timenow = datetime.now(ny)\n",
    "    sheet = gc.open('MLBGetProps')\n",
    "    Goal = sheet.worksheet(\"Scrape\")\n",
    "    Goal.update('b8', timestart.strftime(\"%B %d, %Y %H:%M:%S\"))\n",
    "except:\n",
    "    timenow = datetime.now(ny)\n"
   ]
  },
  {
   "cell_type": "code",
   "execution_count": 5,
   "metadata": {},
   "outputs": [
    {
     "name": "stdout",
     "output_type": "stream",
     "text": [
      "Get Season Stats from SportData\n"
     ]
    },
    {
     "data": {
      "text/plain": [
       "{'spreadsheetId': '1MvVT67sxzg2yBhHNMQXeRMxWQ4D4CnieMI9KfVoya-s',\n",
       " 'updatedRange': 'Stats!F2',\n",
       " 'updatedRows': 1,\n",
       " 'updatedColumns': 1,\n",
       " 'updatedCells': 1}"
      ]
     },
     "execution_count": 5,
     "metadata": {},
     "output_type": "execute_result"
    }
   ],
   "source": [
    "#Get Relevant Season Stats\n",
    "#Get MVP odds from SportData\n",
    "\n",
    "print('Get Season Stats from SportData')\n",
    "dataStats = []\n",
    "\n",
    "#Get Rosters FantasyData\n",
    "with urlopen(\"https://api.sportsdata.io/v3/mlb/stats/json/PlayerSeasonStats/2023?key=9080515fbdff4aa095490cadda5ecd30\") as url:\n",
    "    data = json.loads(url.read().decode())\n",
    "for players in data:\n",
    "    row=[ players['PlayerID'],players['HomeRuns'],players['OnBasePercentage'],players['SluggingPercentage'],players['OnBasePlusSlugging'] ]\n",
    "    dataStats.append(row)\n",
    "    \n",
    "\n",
    "dfStats=DataFrame(dataStats)\n",
    "dfStats.columns = [\"SD_ID\", \"HR\", \"OBP\", \"SLG\", \"OPS\"]\n",
    "\n",
    "#Let's authorize us to work on that file\n",
    "timestart =  datetime.now()\n",
    "sheet = gc.open('MLBGetProps')\n",
    "\n",
    "#Let's push the map\n",
    "Goal = sheet.worksheet(\"Stats\")\n",
    "sheet.values_clear(\"Stats!a1:e2000\")\n",
    "\n",
    "set_with_dataframe(Goal, dfStats, row=1,col=1)\n",
    "timenow = datetime.now(ny)\n",
    "Goal.update('f2', timenow.strftime(\"%B %d, %Y %H:%M:%S\"))\n"
   ]
  },
  {
   "cell_type": "code",
   "execution_count": 7,
   "metadata": {},
   "outputs": [
    {
     "name": "stdout",
     "output_type": "stream",
     "text": [
      "Get MVP odds from SportData\n"
     ]
    },
    {
     "data": {
      "text/plain": [
       "{'spreadsheetId': '1MvVT67sxzg2yBhHNMQXeRMxWQ4D4CnieMI9KfVoya-s',\n",
       " 'updatedRange': 'MVPAL!J2',\n",
       " 'updatedRows': 1,\n",
       " 'updatedColumns': 1,\n",
       " 'updatedCells': 1}"
      ]
     },
     "execution_count": 7,
     "metadata": {},
     "output_type": "execute_result"
    }
   ],
   "source": [
    "#Get MVP odds from SportData\n",
    "\n",
    "print('Get MVP odds from SportData')\n",
    "dataNL = []\n",
    "dataAL = []\n",
    "\n",
    "#Get Rosters FantasyData\n",
    "with urlopen(\"https://api.sportsdata.io/v3/mlb/odds/json/BettingFuturesBySeason/2023?key=dc0a09ab9b2f412492a939da443252e5\") as url:\n",
    "    data = json.loads(url.read().decode())\n",
    "    bets= data[0]['BettingMarkets']\n",
    "for bet in bets:\n",
    "    bettingoutcomes= bet['BettingOutcomes']\n",
    "    bettype=bet['BettingBetType']\n",
    "    if bettype=='NL MVP':\n",
    "        for betoutcome in bettingoutcomes:\n",
    "            if betoutcome['SportsBook']['Name'] == 'FanDuel':\n",
    "                row=[ bettype, betoutcome['SportsBook']['Name'], betoutcome['PlayerID'], betoutcome['Participant'],betoutcome['PayoutAmerican']]\n",
    "                dataNL.append(row)\n",
    "    if bettype=='AL MVP':\n",
    "        for betoutcome in bettingoutcomes:\n",
    "            if betoutcome['SportsBook']['Name'] == 'FanDuel':\n",
    "                row=[ bettype, betoutcome['SportsBook']['Name'], betoutcome['PlayerID'], betoutcome['Participant'],betoutcome['PayoutAmerican']]\n",
    "                dataAL.append(row)\n",
    "\n",
    "dfNL=DataFrame(dataNL)\n",
    "dfNL.columns = [\"Bet\", \"Book\", \"SD_ID\", \"Player\", \"MoneyLine\"]\n",
    "dfAL=DataFrame(dataAL)\n",
    "dfAL.columns = [\"Bet\", \"Book\", \"SD_ID\", \"Player\", \"MoneyLine\"]\n",
    "\n",
    "dfNL=dfNL.sort_values(by=['MoneyLine'])\n",
    "dfAL=dfAL.sort_values(by=['MoneyLine'])\n",
    "\n",
    "combinedNL= dfNL.merge(dfStats, on='SD_ID')\n",
    "combinedAL= dfAL.merge(dfStats, on='SD_ID')\n",
    "\n",
    "#Let's authorize us to work on that file\n",
    "timestart =  datetime.now()\n",
    "sheet = gc.open('MLBGetProps')\n",
    "\n",
    "#Let's push the map\n",
    "Goal = sheet.worksheet(\"MVPNL\")\n",
    "sheet.values_clear(\"MVPNL!a1:i2000\")\n",
    "\n",
    "set_with_dataframe(Goal, combinedNL, row=1,col=1)\n",
    "timenow = datetime.now(ny)\n",
    "Goal.update('j2', timenow.strftime(\"%B %d, %Y %H:%M:%S\"))\n",
    "\n",
    "Goal = sheet.worksheet(\"MVPAL\")\n",
    "sheet.values_clear(\"MVPAL!a1:i2000\")\n",
    "\n",
    "set_with_dataframe(Goal, combinedAL, row=1,col=1)\n",
    "timenow = datetime.now(ny)\n",
    "Goal.update('j2', timenow.strftime(\"%B %d, %Y %H:%M:%S\"))\n"
   ]
  }
 ],
 "metadata": {
  "kernelspec": {
   "display_name": "Python 3 (ipykernel)",
   "language": "python",
   "name": "python3"
  },
  "language_info": {
   "codemirror_mode": {
    "name": "ipython",
    "version": 3
   },
   "file_extension": ".py",
   "mimetype": "text/x-python",
   "name": "python",
   "nbconvert_exporter": "python",
   "pygments_lexer": "ipython3",
   "version": "3.10.11"
  },
  "vscode": {
   "interpreter": {
    "hash": "fd6084b403986213221ed7cab1a0e76c57d8f3f556fd3c19c2ecd355b15fd98b"
   }
  }
 },
 "nbformat": 4,
 "nbformat_minor": 2
}
